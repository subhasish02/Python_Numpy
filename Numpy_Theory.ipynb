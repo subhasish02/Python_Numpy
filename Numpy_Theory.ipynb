{
 "cells": [
  {
   "cell_type": "markdown",
   "id": "d12490bd",
   "metadata": {},
   "source": [
    "# Numpy"
   ]
  },
  {
   "cell_type": "markdown",
   "id": "e38d1291",
   "metadata": {},
   "source": [
    "# Theoretical Questions:\n"
   ]
  },
  {
   "cell_type": "markdown",
   "id": "38671d37",
   "metadata": {},
   "source": [
    "#  Explain the purpose and advantages of NumPy in scientific computing and data analysis. How does it enhance Python's capabilities for numerical operations?"
   ]
  },
  {
   "cell_type": "markdown",
   "id": "02bef41d",
   "metadata": {},
   "source": [
    "NumPy: The Powerhouse of Scientific Computing in Python\n",
    "\n",
    "NumPy, short for Numerical Python, is a fundamental library for scientific computing in Python. It provides efficient array operations, linear algebra functions, and random number generation capabilities.\n",
    "\n",
    "Key Advantages of NumPy:\n",
    "\n",
    "Efficient Array Operations:\n",
    "\n",
    "Vectorization: NumPy allows you to perform operations on entire arrays at once, significantly speeding up computations compared to traditional Python loops.\n",
    "\n",
    "Broadcasting: This powerful feature enables operations between arrays of different shapes, making complex calculations more concise and efficient.\n",
    "\n",
    "Memory Efficiency: NumPy arrays are more memory-efficient than Python lists, especially for large datasets.\n",
    "\n",
    "Linear Algebra Functions:\n",
    "\n",
    "Matrix Operations: NumPy offers a rich set of functions for matrix multiplication, inversion, and decomposition.\n",
    "\n",
    "Eigenvalue and Eigenvector Calculations: These are essential for various mathematical and statistical analyses.\n",
    "\n",
    "Solving Linear Equations: NumPy provides efficient solvers for systems of linear equations.\n",
    "\n",
    "Random Number Generation:\n",
    "\n",
    "Pseudo-Random Numbers: NumPy generates random numbers from various distributions (uniform, normal, etc.) for simulations and statistical sampling.\n",
    "\n",
    "Seed Control: You can set a seed to ensure reproducibility of random number sequences.\n",
    "\n",
    "Integration with Other Libraries:\n",
    "\n",
    "SciPy: Builds upon NumPy to provide advanced scientific computing algorithms.\n",
    "\n",
    "Pandas: Leverages NumPy arrays for efficient data manipulation and analysis.\n",
    "\n",
    "Matplotlib: Uses NumPy arrays to create high-quality visualizations.\n",
    "\n",
    "Machine Learning Libraries: Many machine learning libraries, like TensorFlow and PyTorch, rely on NumPy for numerical computations.\n",
    "\n",
    "How NumPy Enhances Python's Numerical Capabilities:\n",
    "\n",
    "Speed: NumPy's optimized C implementation and vectorized operations significantly improve performance.\n",
    "\n",
    "Efficiency: Memory-efficient array storage reduces resource consumption.\n",
    "\n",
    "Simplicity: Concise syntax and a wide range of functions make numerical computations easier.\n",
    "\n",
    "Versatility: Integration with other libraries extends NumPy's capabilities to various scientific domains.\n",
    "\n",
    "In essence, NumPy transforms Python from a general-purpose language into a powerful tool for scientific computing, data analysis, and machine learning. By providing efficient array operations and a rich ecosystem of tools, NumPy empowers researchers, data scientists, and engineers to tackle complex numerical challenges with ease and speed"
   ]
  },
  {
   "cell_type": "markdown",
   "id": "66810f90",
   "metadata": {},
   "source": [
    "#  Compare and contrast np.mean() and np.average() functions in NumPy. When would you use one over the other?"
   ]
  },
  {
   "cell_type": "markdown",
   "id": "4f98887b",
   "metadata": {},
   "source": [
    "np.mean() vs. np.average() in NumPy\n",
    "\n",
    "Both np.mean() and np.average() are functions in NumPy used to calculate averages. However, they differ slightly in their behavior, particularly when dealing with weighted averages.\n",
    "\n",
    "np.mean()\n",
    "\n",
    "Calculates the arithmetic mean of an array or an array-like object.\n",
    "Ignores missing values (NaNs) by default.\n",
    "Does not support weighted averages directly.\n",
    "\n",
    "np.average()\n",
    "\n",
    "More flexible than np.mean().\n",
    "Calculates the weighted average if weights are provided.\n",
    "Can handle missing values using the returned argument.\n",
    "\n",
    "When to Use Which:\n",
    "\n",
    "Simple Arithmetic Mean:\n",
    "\n",
    "If you need a straightforward average without weights and want to ignore missing values, np.mean() is the go-to choice.\n",
    "\n",
    "Weighted Average:\n",
    "\n",
    "When you want to calculate a weighted average, where certain elements contribute more to the final result, np.average() is the preferred option. You can provide weights as an array-like object to the weights parameter.\n",
    "Handling Missing Values:\n",
    "\n",
    "If you need to handle missing values differently, np.average() offers more control through the returned argument. You can choose to return the average, the sum of weights, or the count of valid values.\n",
    "\n",
    "Example:"
   ]
  },
  {
   "cell_type": "code",
   "execution_count": 3,
   "id": "730beef6",
   "metadata": {},
   "outputs": [
    {
     "name": "stdout",
     "output_type": "stream",
     "text": [
      "3.0\n",
      "3.2\n"
     ]
    }
   ],
   "source": [
    "#code\n",
    "import numpy as np\n",
    "\n",
    "# Simple arithmetic mean\n",
    "arr = np.array([1, 2, 3, 4, 5])\n",
    "mean_value = np.mean(arr)\n",
    "print(mean_value)  # Output: 3.0\n",
    "\n",
    "# Weighted average\n",
    "weights = np.array([0.1, 0.2, 0.3, 0.2, 0.2])\n",
    "weighted_average = np.average(arr, weights=weights)\n",
    "print(weighted_average)  # Output: 2.9"
   ]
  },
  {
   "cell_type": "markdown",
   "id": "4fb451f6",
   "metadata": {},
   "source": [
    "#  Describe the methods for reversing a NumPy array along different axes. Provide examples for 1D and 2D arrays."
   ]
  },
  {
   "cell_type": "markdown",
   "id": "03ebe91c",
   "metadata": {},
   "source": [
    "Reversing NumPy Arrays Along Different Axes\n",
    "\n",
    "NumPy provides efficient methods to reverse arrays along specific axes. This is particularly useful for various data manipulation and analysis tasks.\n",
    "\n",
    "Reversing 1D Arrays:\n",
    "\n",
    "To reverse a 1D array, you can simply use the [::-1] slicing technique:"
   ]
  },
  {
   "cell_type": "code",
   "execution_count": 2,
   "id": "f98f436a",
   "metadata": {},
   "outputs": [
    {
     "name": "stdout",
     "output_type": "stream",
     "text": [
      "[5 4 3 2 1]\n"
     ]
    }
   ],
   "source": [
    "import numpy as np\n",
    "\n",
    "arr = np.array([1, 2, 3, 4, 5])\n",
    "reversed_arr = arr[::-1]\n",
    "print(reversed_arr)  # Output: [5 4 3 2 1]"
   ]
  },
  {
   "cell_type": "markdown",
   "id": "f621ddb3",
   "metadata": {},
   "source": [
    "Reversing 2D Arrays:\n",
    "\n",
    "For 2D arrays, you can reverse along different axes using the np.flip() function:\n",
    "\n",
    "Reversing along the first axis (rows):"
   ]
  },
  {
   "cell_type": "code",
   "execution_count": 4,
   "id": "dd7f8bd5",
   "metadata": {},
   "outputs": [
    {
     "name": "stdout",
     "output_type": "stream",
     "text": [
      "[[7 8 9]\n",
      " [4 5 6]\n",
      " [1 2 3]]\n"
     ]
    }
   ],
   "source": [
    "arr = np.array([[1, 2, 3],\n",
    "                [4, 5, 6],\n",
    "                [7, 8, 9]])\n",
    "reversed_rows = np.flip(arr, axis=0)\n",
    "print(reversed_rows)"
   ]
  },
  {
   "cell_type": "markdown",
   "id": "a212e160",
   "metadata": {},
   "source": [
    "Reversing along the second axis (columns):"
   ]
  },
  {
   "cell_type": "code",
   "execution_count": 5,
   "id": "8bc6a380",
   "metadata": {},
   "outputs": [
    {
     "name": "stdout",
     "output_type": "stream",
     "text": [
      "[[3 2 1]\n",
      " [6 5 4]\n",
      " [9 8 7]]\n"
     ]
    }
   ],
   "source": [
    "reversed_cols = np.flip(arr, axis=1)\n",
    "print(reversed_cols)"
   ]
  },
  {
   "cell_type": "markdown",
   "id": "19a92b3a",
   "metadata": {},
   "source": [
    "Reversing along both axes:"
   ]
  },
  {
   "cell_type": "code",
   "execution_count": 6,
   "id": "36955cdd",
   "metadata": {},
   "outputs": [
    {
     "name": "stdout",
     "output_type": "stream",
     "text": [
      "[[9 8 7]\n",
      " [6 5 4]\n",
      " [3 2 1]]\n"
     ]
    }
   ],
   "source": [
    "reversed_both = np.flip(arr)  # Default axis is None, which flips all axes\n",
    "print(reversed_both)"
   ]
  },
  {
   "cell_type": "markdown",
   "id": "26e4b5f8",
   "metadata": {},
   "source": [
    "General Approach:\n",
    "\n",
    "The np.flip() function takes an array and an optional axis argument. The axis argument specifies the axis along which to reverse the array. If axis is not specified, all axes are reversed.\n",
    "\n",
    "Additional Considerations:\n",
    "\n",
    "In-place Reversal: To modify the original array in-place, use the [::-1] slicing for 1D arrays and np.flip() with the out parameter for 2D arrays.\n",
    "\n",
    "Complex Arrays: For complex arrays, reversing the imaginary part might be necessary in addition to the real part, depending on the specific application."
   ]
  },
  {
   "cell_type": "markdown",
   "id": "a8231003",
   "metadata": {},
   "source": [
    "#  How can you determine the data type of elements in a NumPy array? Discuss the importance of data types in memory management and performance."
   ]
  },
  {
   "cell_type": "markdown",
   "id": "5a0166cf",
   "metadata": {},
   "source": [
    "Determining Data Types in NumPy Arrays\n",
    "\n",
    "NumPy arrays are homogeneous, meaning all elements must have the same data type. To determine the data type of elements in a NumPy array, you can use the dtype attribute:"
   ]
  },
  {
   "cell_type": "code",
   "execution_count": 7,
   "id": "2bb6df87",
   "metadata": {},
   "outputs": [
    {
     "name": "stdout",
     "output_type": "stream",
     "text": [
      "int32\n"
     ]
    }
   ],
   "source": [
    "import numpy as np\n",
    "\n",
    "arr = np.array([1, 2, 3, 4, 5])\n",
    "print(arr.dtype)  # Output: int32 or int64 (depending on system)"
   ]
  },
  {
   "cell_type": "markdown",
   "id": "83b9e120",
   "metadata": {},
   "source": [
    "Importance of Data Types in Memory Management and Performance:\n",
    "\n",
    "Data types play a crucial role in memory management and performance optimization in NumPy:\n",
    "\n",
    "Memory Efficiency:\n",
    "\n",
    "Smaller Data Types: Choosing smaller data types (e.g., int16 instead of int64) can significantly reduce memory usage, especially for large arrays.\n",
    "Optimal Data Types: Selecting the appropriate data type based on the range of values can prevent unnecessary memory overhead.\n",
    "\n",
    "Computational Efficiency:\n",
    "\n",
    "Optimized Operations: NumPy operations are optimized for specific data types. Using the correct data type can lead to faster computations.\n",
    "Hardware-Specific Optimizations: Modern hardware often has specialized instructions for specific data types, which can further accelerate calculations.\n",
    "\n",
    "Precision:\n",
    "\n",
    "Balancing Precision and Memory: While smaller data types can save memory, they might sacrifice precision for very large or small numbers.\n",
    "\n",
    "Choosing the Right Precision: Consider the required precision for your calculations and select a data type that balances accuracy and efficiency.\n",
    "\n",
    "Common Data Types in NumPy:\n",
    "\n",
    "Integer Types: int8, int16, int32, int64\n",
    "\n",
    "Floating-Point Types: float16, float32, float64\n",
    "\n",
    "Complex Number Types: complex64, complex128\n",
    "\n",
    "Boolean Type: bool\n",
    "\n",
    "String Type: str (variable-length)\n",
    "\n",
    "Tips for Efficient Data Type Usage:\n",
    "\n",
    "Analyze Data: Before creating NumPy arrays, analyze the range of values to determine the most suitable data type.\n",
    "\n",
    "Use Appropriate Data Types: Choose data types that balance memory usage and precision.\n",
    "\n",
    "Leverage Type Conversion: If necessary, convert data types using functions like astype() to optimize performance.\n",
    "\n",
    "Consider Hardware Limitations: Be mindful of your hardware's capabilities and the limitations of different data types."
   ]
  },
  {
   "cell_type": "markdown",
   "id": "4f41b816",
   "metadata": {},
   "source": [
    "# . Define ndarrays in NumPy and explain their key features. How do they differ from standard Python lists?"
   ]
  },
  {
   "cell_type": "markdown",
   "id": "b902c424",
   "metadata": {},
   "source": [
    "ndarrays: The Core of NumPy\n",
    "\n",
    "In NumPy, ndarrays (n-dimensional arrays) are the fundamental data structure for efficient numerical computations. They are multidimensional arrays that can hold elements of the same data type.\n",
    "\n",
    "Key Features of ndarrays:\n",
    "\n",
    "Homogeneous Data Type: All elements in an ndarray must be of the same data type. This allows for efficient memory storage and optimized operations.\n",
    "\n",
    "Multidimensional: ndarrays can be one-dimensional (vectors), two-dimensional (matrices), or higher-dimensional arrays.\n",
    "\n",
    "Efficient Memory Layout: NumPy arrays are stored in contiguous memory blocks, which improves memory access and computational performance.\n",
    "\n",
    "Vectorized Operations: NumPy supports vectorized operations, which allow you to perform operations on entire arrays element-wise without explicit loops. This significantly speeds up computations.\n",
    "\n",
    "Broadcasting: NumPy's broadcasting rules enable operations between arrays of different shapes, as long as they are compatible.\n",
    "\n",
    "Indexing and Slicing: Powerful indexing and slicing mechanisms allow you to access and manipulate specific elements or subsets of an array."
   ]
  },
  {
   "cell_type": "markdown",
   "id": "a67ccbe1",
   "metadata": {},
   "source": [
    "How ndarrays Differ from Standard Python Lists:"
   ]
  },
  {
   "cell_type": "markdown",
   "id": "c92338c9",
   "metadata": {},
   "source": [
    "While both NumPy ndarrays and Python lists are used to store collections of data, they differ in terms of data type homogeneity, memory efficiency, performance, and vectorization capabilities. Ndarrays are more efficient for numerical computations due to their homogeneous data type, contiguous memory layout, and optimized operations."
   ]
  },
  {
   "cell_type": "markdown",
   "id": "f65067ee",
   "metadata": {},
   "source": [
    "#  Analyze the performance benefits of NumPy arrays over Python lists for large-scale numerical operations.\n",
    "\n",
    "\n"
   ]
  },
  {
   "cell_type": "markdown",
   "id": "84a080d4",
   "metadata": {},
   "source": [
    "NumPy arrays offer significant performance advantages over Python lists for large-scale numerical operations due to several key factors:\n",
    "\n",
    "1. Homogeneous Data Type:\n",
    "\n",
    "Efficient Memory Layout: NumPy arrays store elements of the same data type in contiguous memory blocks, allowing for efficient memory access and cache utilization.\n",
    "Optimized Operations: NumPy operations are optimized for specific data types, leading to faster execution.\n",
    "\n",
    "2. Vectorization:\n",
    "\n",
    "Element-wise Operations: NumPy allows you to perform operations on entire arrays element-wise without explicit loops. This is significantly faster than iterating over elements in Python lists.\n",
    "Broadcasting: NumPy's broadcasting rules enable operations between arrays of different shapes, making complex calculations more concise and efficient.\n",
    "\n",
    "3. C-based Implementation:\n",
    "\n",
    "Lower-Level Optimization: NumPy is implemented in C, providing direct access to low-level memory operations and hardware optimizations.\n",
    "Reduced Overhead: This reduces the overhead associated with Python's interpreted nature.\n",
    "\n",
    "4. Memory Efficiency:\n",
    "\n",
    "Compact Storage: NumPy arrays use less memory than Python lists, especially for large datasets.\n",
    "Reduced Memory Allocation: NumPy arrays allocate memory efficiently, minimizing memory overhead.\n",
    "\n",
    "In summary, NumPy arrays' homogeneous data type, vectorization capabilities, C-based implementation, and memory efficiency make them significantly faster than Python lists for large-scale numerical operations. This performance advantage is particularly noticeable when dealing with large datasets and complex calculations."
   ]
  },
  {
   "cell_type": "markdown",
   "id": "bc5d78e3",
   "metadata": {},
   "source": [
    "#  Compare vstack() and hstack() functions in NumPy. Provide examples demonstrating their usage and output."
   ]
  },
  {
   "cell_type": "markdown",
   "id": "08942e85",
   "metadata": {},
   "source": [
    "vstack() and hstack() in NumPy\n",
    "\n",
    "NumPy provides two essential functions for stacking arrays: vstack() and hstack(). These functions are used to concatenate arrays along specific axes.\n",
    "\n",
    "vstack()\n",
    "\n",
    "Vertical Stacking: Stacks arrays vertically, meaning it stacks them row-wise.\n",
    "\n",
    "Axis: Stacks along the first axis (axis=0).\n",
    "\n",
    "Example:"
   ]
  },
  {
   "cell_type": "code",
   "execution_count": 8,
   "id": "c882d8f5",
   "metadata": {},
   "outputs": [
    {
     "name": "stdout",
     "output_type": "stream",
     "text": [
      "[[ 1  2  3]\n",
      " [ 4  5  6]\n",
      " [ 7  8  9]\n",
      " [10 11 12]]\n"
     ]
    }
   ],
   "source": [
    "import numpy as np\n",
    "\n",
    "arr1 = np.array([[1, 2, 3],\n",
    "                [4, 5, 6]])\n",
    "\n",
    "arr2 = np.array([[7, 8, 9],\n",
    "                [10, 11, 12]])\n",
    "\n",
    "stacked_array = np.vstack((arr1, arr2))\n",
    "print(stacked_array)"
   ]
  },
  {
   "cell_type": "markdown",
   "id": "cb1c4e13",
   "metadata": {},
   "source": [
    "hstack()\n",
    "\n",
    "Horizontal Stacking: Stacks arrays horizontally, meaning it stacks them column-wise.\n",
    "\n",
    "Axis: Stacks along the second axis (axis=1).\n",
    "\n",
    "Example:"
   ]
  },
  {
   "cell_type": "code",
   "execution_count": 9,
   "id": "efccd530",
   "metadata": {},
   "outputs": [
    {
     "name": "stdout",
     "output_type": "stream",
     "text": [
      "[[1 2 5 6]\n",
      " [3 4 7 8]]\n"
     ]
    }
   ],
   "source": [
    "arr1 = np.array([[1, 2],\n",
    "                [3, 4]])\n",
    "\n",
    "arr2 = np.array([[5, 6],\n",
    "                [7, 8]])\n",
    "\n",
    "stacked_array = np.hstack((arr1, arr2))\n",
    "print(stacked_array)"
   ]
  },
  {
   "cell_type": "markdown",
   "id": "4e47d91f",
   "metadata": {},
   "source": [
    "Key Points:\n",
    "\n",
    "Shape Compatibility: The arrays to be stacked must have compatible shapes. For vstack(), the number of columns must be the same. For hstack(), the number of rows must be the same.\n",
    "\n",
    "Data Type: The resulting stacked array will have the same data type as the input arrays.\n",
    "\n",
    "Flexibility: You can stack multiple arrays using these functions by passing them as a tuple."
   ]
  },
  {
   "cell_type": "markdown",
   "id": "fe4f5a57",
   "metadata": {},
   "source": [
    "#  Explain the differences between fliplr() and flipud() methods in NumPy, including their effects on various array dimensions."
   ]
  },
  {
   "cell_type": "markdown",
   "id": "d9c2dea6",
   "metadata": {},
   "source": [
    "fliplr() and flipud() in NumPy\n",
    "\n",
    "NumPy provides two functions, fliplr() and flipud(), to flip arrays along specific axes.\n",
    "\n",
    "fliplr()\n",
    "\n",
    "Flips the array horizontally.\n",
    "\n",
    "Axis: Flips along the second axis (axis=1).\n",
    "\n",
    "Example:"
   ]
  },
  {
   "cell_type": "code",
   "execution_count": 10,
   "id": "b96bcc14",
   "metadata": {},
   "outputs": [
    {
     "name": "stdout",
     "output_type": "stream",
     "text": [
      "[[3 2 1]\n",
      " [6 5 4]]\n"
     ]
    }
   ],
   "source": [
    "import numpy as np\n",
    "\n",
    "arr = np.array([[1, 2, 3],\n",
    "                [4, 5, 6]])\n",
    "\n",
    "flipped_arr = np.fliplr(arr)\n",
    "print(flipped_arr)"
   ]
  },
  {
   "cell_type": "markdown",
   "id": "78e24d81",
   "metadata": {},
   "source": [
    "flipud()\n",
    "\n",
    "Flips the array vertically.\n",
    "\n",
    "Axis: Flips along the first axis (axis=0).\n",
    "\n",
    "Example:"
   ]
  },
  {
   "cell_type": "code",
   "execution_count": 11,
   "id": "43f1ab4c",
   "metadata": {},
   "outputs": [
    {
     "name": "stdout",
     "output_type": "stream",
     "text": [
      "[[4 5 6]\n",
      " [1 2 3]]\n"
     ]
    }
   ],
   "source": [
    "import numpy as np\n",
    "\n",
    "arr = np.array([[1, 2, 3],\n",
    "                [4, 5, 6]])\n",
    "\n",
    "flipped_arr = np.flipud(arr)\n",
    "print(flipped_arr)"
   ]
  },
  {
   "cell_type": "markdown",
   "id": "994e73b1",
   "metadata": {},
   "source": [
    "Effects on Different Array Dimensions:\n",
    "\n",
    "1D Arrays: Both fliplr() and flipud() reverse the order of elements in a 1D array.\n",
    "\n",
    "2D Arrays:\n",
    "\n",
    "fliplr(): Reverses the order of columns.\n",
    "\n",
    "flipud(): Reverses the order of rows.\n",
    "\n",
    "Higher-Dimensional Arrays:\n",
    "\n",
    "The behavior of these functions extends to higher dimensions. For instance, in a 3D array, fliplr() would reverse the order of the third dimension, while flipud() would reverse the order of the second dimension."
   ]
  },
  {
   "cell_type": "markdown",
   "id": "09e9cbeb",
   "metadata": {},
   "source": [
    "# . Discuss the functionality of the array_split() method in NumPy. How does it handle uneven splits?"
   ]
  },
  {
   "cell_type": "markdown",
   "id": "b0569194",
   "metadata": {},
   "source": [
    "array_split() in NumPy\n",
    "\n",
    "The array_split() function in NumPy is used to split an array into multiple sub-arrays. It's particularly useful for dividing large arrays into smaller chunks for parallel processing or for specific data analysis tasks.\n",
    "\n",
    "Key Points:\n",
    "\n",
    "Uneven Splits:\n",
    "\n",
    "When the array cannot be evenly divided into the specified number of sub-arrays, the array_split() function handles it by distributing the extra elements across the sub-arrays.\n",
    "The first few sub-arrays will have one more element than the rest.\n",
    "\n",
    "Indeces:\n",
    "\n",
    "You can specify the indices at which to split the array using the indices_or_sections argument.\n",
    "If you provide a single integer, the array is split into that many equal-sized sub-arrays (as much as possible).\n",
    "\n",
    "Example:"
   ]
  },
  {
   "cell_type": "code",
   "execution_count": 12,
   "id": "64c2977e",
   "metadata": {},
   "outputs": [
    {
     "name": "stdout",
     "output_type": "stream",
     "text": [
      "[array([0, 1, 2, 3]), array([4, 5, 6, 7]), array([ 8,  9, 10])]\n",
      "[array([0, 1]), array([2, 3, 4, 5]), array([ 6,  7,  8,  9, 10])]\n"
     ]
    }
   ],
   "source": [
    "import numpy as np\n",
    "\n",
    "arr = np.arange(11)\n",
    "\n",
    "# Split into 3 sub-arrays\n",
    "split_arr = np.array_split(arr, 3)\n",
    "print(split_arr)\n",
    "\n",
    "# Split at specific indices\n",
    "split_arr = np.array_split(arr, [2, 6])\n",
    "print(split_arr)"
   ]
  },
  {
   "cell_type": "markdown",
   "id": "fb5bc158",
   "metadata": {},
   "source": [
    "#  Explain the concepts of vectorization and broadcasting in NumPy. How do they contribute to efficient array operations?"
   ]
  },
  {
   "cell_type": "markdown",
   "id": "d5e00822",
   "metadata": {},
   "source": [
    "Vectorization and Broadcasting in NumPy\n",
    "\n",
    "NumPy's vectorization and broadcasting are two powerful techniques that significantly enhance the efficiency of array operations.\n",
    "\n",
    "Vectorization\n",
    "\n",
    "Vectorization involves performing operations on entire arrays element-wise, without the need for explicit loops. This is achieved by leveraging NumPy's optimized C-level implementations.\n",
    "\n",
    "Benefits of Vectorization:\n",
    "\n",
    "Speed: Vectorized operations are much faster than equivalent Python loops, especially for large arrays.\n",
    "\n",
    "Readability: Vectorized code is often more concise and easier to understand.\n",
    "\n",
    "Memory Efficiency: Vectorized operations can reduce memory usage by avoiding intermediate temporary arrays.\n",
    "\n",
    "Example:"
   ]
  },
  {
   "cell_type": "code",
   "execution_count": 13,
   "id": "ff4f79f8",
   "metadata": {},
   "outputs": [],
   "source": [
    "import numpy as np\n",
    "\n",
    "# Vectorized approach\n",
    "arr1 = np.array([1, 2, 3])\n",
    "arr2 = np.array([4, 5, 6])\n",
    "result = arr1 + arr2  # Element-wise addition\n",
    "\n",
    "# Non-vectorized approach (less efficient)\n",
    "result = []\n",
    "for i in range(len(arr1)):\n",
    "    result.append(arr1[i] + arr2[i])"
   ]
  },
  {
   "cell_type": "markdown",
   "id": "66040bc8",
   "metadata": {},
   "source": [
    "Broadcasting\n",
    "\n",
    "Broadcasting is a technique that allows NumPy to perform operations on arrays of different shapes. It involves implicitly expanding one or more arrays to match the shape of the other, under certain conditions.\n",
    "\n",
    "Rules of Broadcasting:\n",
    "\n",
    "Shape Compatibility: Arrays must be compatible in shape, meaning they either have the same shape or one of them has a shape of 1.\n",
    "\n",
    "Implicit Expansion: Arrays with shape 1 are implicitly expanded to match the shape of the other array.\n",
    "\n",
    "Example:"
   ]
  },
  {
   "cell_type": "code",
   "execution_count": 16,
   "id": "5d32d502",
   "metadata": {},
   "outputs": [
    {
     "name": "stdout",
     "output_type": "stream",
     "text": [
      "[[11 22 33]\n",
      " [14 25 36]]\n"
     ]
    }
   ],
   "source": [
    "import numpy as np\n",
    "\n",
    "arr1 = np.array([[1, 2, 3],\n",
    "                [4, 5, 6]])\n",
    "\n",
    "arr2 = np.array([10, 20, 30])  # Shape (3,)\n",
    "\n",
    "result = arr1 + arr2  # Broadcasting to match the shape of arr1\n",
    "print(result)"
   ]
  },
  {
   "cell_type": "code",
   "execution_count": null,
   "id": "f0f39fea",
   "metadata": {},
   "outputs": [],
   "source": []
  }
 ],
 "metadata": {
  "kernelspec": {
   "display_name": "Python 3 (ipykernel)",
   "language": "python",
   "name": "python3"
  },
  "language_info": {
   "codemirror_mode": {
    "name": "ipython",
    "version": 3
   },
   "file_extension": ".py",
   "mimetype": "text/x-python",
   "name": "python",
   "nbconvert_exporter": "python",
   "pygments_lexer": "ipython3",
   "version": "3.9.12"
  }
 },
 "nbformat": 4,
 "nbformat_minor": 5
}
