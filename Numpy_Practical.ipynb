{
 "cells": [
  {
   "cell_type": "markdown",
   "id": "bdc12737",
   "metadata": {},
   "source": [
    "# Numpy"
   ]
  },
  {
   "cell_type": "markdown",
   "id": "d5231b26",
   "metadata": {},
   "source": [
    "# Practical Questions:"
   ]
  },
  {
   "cell_type": "markdown",
   "id": "11a8a4e1",
   "metadata": {},
   "source": [
    "#  Create a 3x3 NumPy array with random integers between 1 and 100. Then, interchange its rows and columns"
   ]
  },
  {
   "cell_type": "code",
   "execution_count": 1,
   "id": "948b05f1",
   "metadata": {},
   "outputs": [
    {
     "name": "stdout",
     "output_type": "stream",
     "text": [
      "Original array:\n",
      "[[26 74 89]\n",
      " [44 50 88]\n",
      " [43 61 80]]\n",
      "\n",
      "Transposed array:\n",
      "[[26 44 43]\n",
      " [74 50 61]\n",
      " [89 88 80]]\n"
     ]
    }
   ],
   "source": [
    "#Code\n",
    "import numpy as np\n",
    "\n",
    "# Create a 3x3 array with random integers between 1 and 100\n",
    "arr = np.random.randint(1, 101, size=(3, 3))\n",
    "\n",
    "print(\"Original array:\")\n",
    "print(arr)\n",
    "\n",
    "# Interchange rows and columns (transpose)\n",
    "transposed_arr = arr.T\n",
    "\n",
    "print(\"\\nTransposed array:\")\n",
    "print(transposed_arr)"
   ]
  },
  {
   "cell_type": "markdown",
   "id": "e0db4651",
   "metadata": {},
   "source": [
    "# Generate a 1D NumPy array with 10 elements. Reshape it into a 2x5 array, then into a 5x2 array."
   ]
  },
  {
   "cell_type": "code",
   "execution_count": 2,
   "id": "f2a4b2a8",
   "metadata": {},
   "outputs": [
    {
     "name": "stdout",
     "output_type": "stream",
     "text": [
      "2x5 array:\n",
      "[[0 1 2 3 4]\n",
      " [5 6 7 8 9]]\n",
      "\n",
      "5x2 array:\n",
      "[[0 1]\n",
      " [2 3]\n",
      " [4 5]\n",
      " [6 7]\n",
      " [8 9]]\n"
     ]
    }
   ],
   "source": [
    "#Code\n",
    "import numpy as np\n",
    "\n",
    "# Create a 1D array with 10 elements\n",
    "arr = np.arange(10)\n",
    "\n",
    "# Reshape it into a 2x5 array\n",
    "arr_2x5 = arr.reshape(2, 5)\n",
    "\n",
    "print(\"2x5 array:\")\n",
    "print(arr_2x5)\n",
    "\n",
    "# Reshape it into a 5x2 array\n",
    "arr_5x2 = arr.reshape(5, 2)\n",
    "\n",
    "print(\"\\n5x2 array:\")\n",
    "print(arr_5x2)"
   ]
  },
  {
   "cell_type": "markdown",
   "id": "a359291b",
   "metadata": {},
   "source": [
    "# Create a 4x4 NumPy array with random float values. Add a border of zeros around it, resulting in a 6x6 array."
   ]
  },
  {
   "cell_type": "code",
   "execution_count": 3,
   "id": "f318c85f",
   "metadata": {},
   "outputs": [
    {
     "name": "stdout",
     "output_type": "stream",
     "text": [
      "[[0.         0.         0.         0.         0.         0.        ]\n",
      " [0.         0.90921461 0.15995547 0.41161549 0.71233187 0.        ]\n",
      " [0.         0.56333792 0.55800066 0.75006656 0.17791678 0.        ]\n",
      " [0.         0.41171501 0.12809082 0.29972228 0.58994739 0.        ]\n",
      " [0.         0.699154   0.31272682 0.22973848 0.06006916 0.        ]\n",
      " [0.         0.         0.         0.         0.         0.        ]]\n"
     ]
    }
   ],
   "source": [
    "#Code\n",
    "import numpy as np\n",
    "\n",
    "# Create a 4x4 array with random float values\n",
    "arr = np.random.rand(4, 4)\n",
    "\n",
    "# Add a border of zeros\n",
    "arr_with_border = np.pad(arr, pad_width=1, mode='constant', constant_values=0)\n",
    "\n",
    "print(arr_with_border)"
   ]
  },
  {
   "cell_type": "markdown",
   "id": "f10470be",
   "metadata": {},
   "source": [
    "#  Using NumPy, create an array of integers from 10 to 60 with a step of 5."
   ]
  },
  {
   "cell_type": "code",
   "execution_count": 4,
   "id": "c9f8ec7a",
   "metadata": {},
   "outputs": [
    {
     "name": "stdout",
     "output_type": "stream",
     "text": [
      "[10 15 20 25 30 35 40 45 50 55 60]\n"
     ]
    }
   ],
   "source": [
    "#Code\n",
    "import numpy as np\n",
    "\n",
    "array = np.arange(10, 61, 5)\n",
    "print(array)"
   ]
  },
  {
   "cell_type": "markdown",
   "id": "5f7b4848",
   "metadata": {},
   "source": [
    "#  Create a NumPy array of strings ['python', 'numpy', 'pandas']. Apply different case transformations (uppercase, lowercase, title case, etc.) to each element"
   ]
  },
  {
   "cell_type": "code",
   "execution_count": 7,
   "id": "585a09c4",
   "metadata": {},
   "outputs": [
    {
     "name": "stdout",
     "output_type": "stream",
     "text": [
      "Uppercase: ['PYTHON', 'NUMPY', 'PANDAS']\n",
      "Lowercase: ['python', 'numpy', 'pandas']\n",
      "Title case: ['Python', 'Numpy', 'Pandas']\n"
     ]
    }
   ],
   "source": [
    "#Code\n",
    "import numpy as np\n",
    "\n",
    "arr = np.array(['python', 'numpy', 'pandas'])\n",
    "\n",
    "# Apply case transformations using a loop\n",
    "upper_arr = []\n",
    "lower_arr = []\n",
    "title_arr = []\n",
    "\n",
    "for word in arr:\n",
    "    upper_arr.append(word.upper())\n",
    "    lower_arr.append(word.lower())\n",
    "    title_arr.append(word.title())\n",
    "\n",
    "print(\"Uppercase:\", upper_arr)\n",
    "print(\"Lowercase:\", lower_arr)\n",
    "print(\"Title case:\", title_arr)"
   ]
  },
  {
   "cell_type": "markdown",
   "id": "64f2dbbc",
   "metadata": {},
   "source": [
    "#  Generate a NumPy array of words. Insert a space between each character of every word in the array."
   ]
  },
  {
   "cell_type": "code",
   "execution_count": 8,
   "id": "7e0f306d",
   "metadata": {},
   "outputs": [
    {
     "name": "stdout",
     "output_type": "stream",
     "text": [
      "['h e l l o' 'w o r l d' 'n u m p y']\n"
     ]
    }
   ],
   "source": [
    "#Code\n",
    "import numpy as np\n",
    "\n",
    "words = np.array([\"hello\", \"world\", \"numpy\"])\n",
    "\n",
    "# Create a function to insert spaces between characters\n",
    "def insert_spaces(word):\n",
    "    return \" \".join(word)\n",
    "\n",
    "# Apply the function to each word using vectorization\n",
    "words_with_spaces = np.array(list(map(insert_spaces, words)))\n",
    "\n",
    "print(words_with_spaces)"
   ]
  },
  {
   "cell_type": "markdown",
   "id": "48378410",
   "metadata": {},
   "source": [
    "#  Create two 2D NumPy arrays and perform element-wise addition, subtraction, multiplication, and division."
   ]
  },
  {
   "cell_type": "code",
   "execution_count": 9,
   "id": "1d075e0a",
   "metadata": {},
   "outputs": [
    {
     "name": "stdout",
     "output_type": "stream",
     "text": [
      "Addition:\n",
      " [[ 6  8]\n",
      " [10 12]]\n",
      "\n",
      "Subtraction:\n",
      " [[-4 -4]\n",
      " [-4 -4]]\n",
      "\n",
      "Multiplication:\n",
      " [[ 5 12]\n",
      " [21 32]]\n",
      "\n",
      "Division:\n",
      " [[0.2        0.33333333]\n",
      " [0.42857143 0.5       ]]\n"
     ]
    }
   ],
   "source": [
    "#Code\n",
    "import numpy as np\n",
    "\n",
    "# Create two 2D arrays\n",
    "arr1 = np.array([[1, 2], [3, 4]])\n",
    "arr2 = np.array([[5, 6], [7, 8]])\n",
    "\n",
    "# Element-wise addition\n",
    "add_result = arr1 + arr2\n",
    "\n",
    "# Element-wise subtraction\n",
    "sub_result = arr1 - arr2\n",
    "\n",
    "# Element-wise multiplication\n",
    "mul_result = arr1 * arr2\n",
    "\n",
    "# Element-wise division\n",
    "div_result = arr1 / arr2\n",
    "\n",
    "print(\"Addition:\\n\", add_result)\n",
    "print(\"\\nSubtraction:\\n\", sub_result)\n",
    "print(\"\\nMultiplication:\\n\", mul_result)\n",
    "print(\"\\nDivision:\\n\", div_result)"
   ]
  },
  {
   "cell_type": "markdown",
   "id": "cdcb0ec2",
   "metadata": {},
   "source": [
    "#  Use NumPy to create a 5x5 identity matrix, then extract its diagonal elements."
   ]
  },
  {
   "cell_type": "code",
   "execution_count": 10,
   "id": "4f7565fe",
   "metadata": {},
   "outputs": [
    {
     "name": "stdout",
     "output_type": "stream",
     "text": [
      "Identity Matrix:\n",
      "[[1. 0. 0. 0. 0.]\n",
      " [0. 1. 0. 0. 0.]\n",
      " [0. 0. 1. 0. 0.]\n",
      " [0. 0. 0. 1. 0.]\n",
      " [0. 0. 0. 0. 1.]]\n",
      "\n",
      "Diagonal Elements:\n",
      "[1. 1. 1. 1. 1.]\n"
     ]
    }
   ],
   "source": [
    "#Code\n",
    "import numpy as np\n",
    "\n",
    "# Create a 5x5 identity matrix\n",
    "identity_matrix = np.eye(5)\n",
    "\n",
    "# Extract the diagonal elements\n",
    "diagonal_elements = np.diag(identity_matrix)\n",
    "\n",
    "print(\"Identity Matrix:\")\n",
    "print(identity_matrix)\n",
    "\n",
    "print(\"\\nDiagonal Elements:\")\n",
    "print(diagonal_elements)"
   ]
  },
  {
   "cell_type": "markdown",
   "id": "bdaf9da0",
   "metadata": {},
   "source": [
    "#  Generate a NumPy array of 100 random integers between 0 and 1000. Find and display all prime numbers in this array"
   ]
  },
  {
   "cell_type": "code",
   "execution_count": 11,
   "id": "79a52ee3",
   "metadata": {},
   "outputs": [
    {
     "name": "stdout",
     "output_type": "stream",
     "text": [
      "Prime numbers in the array: [283, 647, 353, 271, 563, 137, 263, 599, 211, 613, 757, 739, 967, 991, 433, 491, 293]\n"
     ]
    }
   ],
   "source": [
    "#Code\n",
    "import numpy as np\n",
    "\n",
    "def is_prime(num):\n",
    "    if num <= 1:\n",
    "        return False\n",
    "    if num <= 3:\n",
    "        return True\n",
    "    if num % 2 == 0 or num % 3 == 0:\n",
    "        return False\n",
    "    i = 5\n",
    "    while i * i <= num:\n",
    "        if num % i == 0 or num % (i + 2) == 0:\n",
    "            return False\n",
    "        i += 6\n",
    "    return True\n",
    "\n",
    "# Generate a NumPy array of 100 random integers\n",
    "random_array = np.random.randint(0, 1001, 100)\n",
    "\n",
    "# Find prime numbers using a list comprehension and the is_prime function\n",
    "prime_numbers = [num for num in random_array if is_prime(num)]\n",
    "\n",
    "print(\"Prime numbers in the array:\", prime_numbers)"
   ]
  },
  {
   "cell_type": "markdown",
   "id": "b230d231",
   "metadata": {},
   "source": [
    "#  Create a NumPy array representing daily temperatures for a month. Calculate and display the weekly averages."
   ]
  },
  {
   "cell_type": "code",
   "execution_count": 13,
   "id": "48390872",
   "metadata": {},
   "outputs": [
    {
     "name": "stdout",
     "output_type": "stream",
     "text": [
      "Weekly Averages:\n",
      "[22.42857143 24.         22.14285714 26.14285714]\n"
     ]
    }
   ],
   "source": [
    "#Code\n",
    "import numpy as np\n",
    "\n",
    "# Generate a NumPy array of 28 daily temperatures\n",
    "temperatures = np.random.randint(15, 35, size=28)\n",
    "\n",
    "# Reshape the array into a 4x7 array (4 weeks, 7 days/week)\n",
    "weekly_temperatures = temperatures.reshape(4, 7)\n",
    "\n",
    "# Calculate the average temperature for each week\n",
    "weekly_averages = np.mean(weekly_temperatures, axis=1)\n",
    "\n",
    "print(\"Weekly Averages:\")\n",
    "print(weekly_averages)"
   ]
  },
  {
   "cell_type": "code",
   "execution_count": null,
   "id": "f1e43adf",
   "metadata": {},
   "outputs": [],
   "source": []
  }
 ],
 "metadata": {
  "kernelspec": {
   "display_name": "Python 3 (ipykernel)",
   "language": "python",
   "name": "python3"
  },
  "language_info": {
   "codemirror_mode": {
    "name": "ipython",
    "version": 3
   },
   "file_extension": ".py",
   "mimetype": "text/x-python",
   "name": "python",
   "nbconvert_exporter": "python",
   "pygments_lexer": "ipython3",
   "version": "3.9.12"
  }
 },
 "nbformat": 4,
 "nbformat_minor": 5
}
